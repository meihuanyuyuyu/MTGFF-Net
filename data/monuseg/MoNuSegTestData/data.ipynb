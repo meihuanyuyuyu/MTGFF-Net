{
 "cells": [
  {
   "cell_type": "code",
   "execution_count": 10,
   "metadata": {},
   "outputs": [
    {
     "name": "stdout",
     "output_type": "stream",
     "text": [
      "['TCGA-2Z-A9J9-01A-01-TS1.tif', 'TCGA-2Z-A9J9-01A-01-TS1.xml', 'TCGA-44-2665-01B-06-BS6.tif', 'TCGA-44-2665-01B-06-BS6.xml', 'TCGA-69-7764-01A-01-TS1.tif', 'TCGA-69-7764-01A-01-TS1.xml', 'TCGA-A6-6782-01A-01-BS1.tif', 'TCGA-A6-6782-01A-01-BS1.xml', 'TCGA-AC-A2FO-01A-01-TS1.tif', 'TCGA-AC-A2FO-01A-01-TS1.xml', 'TCGA-AO-A0J2-01A-01-BSA.tif', 'TCGA-AO-A0J2-01A-01-BSA.xml', 'TCGA-CU-A0YN-01A-02-BSB.tif', 'TCGA-CU-A0YN-01A-02-BSB.xml', 'TCGA-EJ-A46H-01A-03-TSC.tif', 'TCGA-EJ-A46H-01A-03-TSC.xml', 'TCGA-FG-A4MU-01B-01-TS1.tif', 'TCGA-FG-A4MU-01B-01-TS1.xml', 'TCGA-GL-6846-01A-01-BS1.tif', 'TCGA-GL-6846-01A-01-BS1.xml', 'TCGA-HC-7209-01A-01-TS1.tif', 'TCGA-HC-7209-01A-01-TS1.xml', 'TCGA-HT-8564-01Z-00-DX1.tif', 'TCGA-HT-8564-01Z-00-DX1.xml', 'TCGA-IZ-8196-01A-01-BS1.tif', 'TCGA-IZ-8196-01A-01-BS1.xml', 'TCGA-ZF-A9R5-01A-01-TS1.tif', 'TCGA-ZF-A9R5-01A-01-TS1.xml']\n",
      "14\n",
      "14\n"
     ]
    }
   ],
   "source": [
    "import xml.etree.ElementTree as ET\n",
    "import os\n",
    "import cv2\n",
    "import numpy as np\n",
    "import matplotlib.pyplot as plt\n",
    "\n",
    "data = os.listdir('/root/autodl-tmp/data/monuseg/MoNuSegTestData')\n",
    "data.sort()\n",
    "data = data[:-3]\n",
    "print(data)\n",
    "\n",
    "monuseg_labels  = [l for l in data if l.endswith('.xml')]\n",
    "print(len(monuseg_labels))\n",
    "imgs_names = [l for l in data if l.endswith('.tif')]\n",
    "print(len(imgs_names))\n",
    "labels = np.zeros((0,1000, 1000, 2), dtype=np.int32)\n",
    "\n",
    "for name in monuseg_labels:\n",
    "    tree = ET.parse('./' + name)\n",
    "    root = tree.getroot()\n",
    "    regions = root.find('Annotation').find('Regions')\n",
    "    mask = np.zeros((1000, 1000), dtype=np.int32)\n",
    "    instance_mask = np.zeros((1000, 1000), dtype=np.int32)\n",
    "\n",
    "    idx =1\n",
    "    for region in regions.findall('Region'):\n",
    "        arr = np.array([],dtype=np.int32)\n",
    "        vertices = region.find('Vertices')\n",
    "        for vertice in vertices.findall('Vertex'):\n",
    "            x = round(float(vertice.get('X')))\n",
    "            y = round(float(vertice.get('Y')))\n",
    "            arr = np.append(arr, [x, y])\n",
    "            arr = arr.reshape(-1, 2)\n",
    "        \n",
    "        ins = np.zeros((1000, 1000), dtype=np.int32)\n",
    "        \n",
    "        cv2.fillPoly(mask, [arr], 1)\n",
    "        cv2.fillPoly(ins, [arr], 1)\n",
    "        ins = ins * idx\n",
    "        ins[np.logical_and(instance_mask!=0,ins!=0)] = 0\n",
    "        instance_mask += ins\n",
    "        idx += 1\n",
    "    label = np.stack([ instance_mask, mask], axis=-1)\n",
    "    labels = np.concatenate([labels, label[np.newaxis, ...]], axis=0)\n",
    "np.save('/root/autodl-tmp/data/monuseg/MoNuSegTestData/labels.npy',labels)"
   ]
  },
  {
   "cell_type": "code",
   "execution_count": 11,
   "metadata": {},
   "outputs": [],
   "source": [
    "import torch\n",
    "import os\n",
    "import numpy as np\n",
    "import PIL.Image as Image\n",
    "\n",
    "imgs = torch.zeros((0, 3, 1000, 1000), dtype=torch.float32)\n",
    "\n",
    "for name in imgs_names:\n",
    "    img = Image.open('./' + name)\n",
    "    img = np.array(img)\n",
    "    img = torch.from_numpy(img).float()/255\n",
    "    img = img.permute(2, 0, 1)\n",
    "    img = img.unsqueeze(0)\n",
    "    imgs = torch.cat([imgs, img], dim=0)\n",
    "torch.save(imgs,'/root/autodl-tmp/data/monuseg/MoNuSegTestData/imgs.pt')\n"
   ]
  }
 ],
 "metadata": {
  "kernelspec": {
   "display_name": "base",
   "language": "python",
   "name": "python3"
  },
  "language_info": {
   "codemirror_mode": {
    "name": "ipython",
    "version": 3
   },
   "file_extension": ".py",
   "mimetype": "text/x-python",
   "name": "python",
   "nbconvert_exporter": "python",
   "pygments_lexer": "ipython3",
   "version": "3.8.10"
  }
 },
 "nbformat": 4,
 "nbformat_minor": 2
}
