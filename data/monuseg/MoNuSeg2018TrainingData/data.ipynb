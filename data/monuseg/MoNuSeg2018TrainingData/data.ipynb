{
 "cells": [
  {
   "cell_type": "code",
   "execution_count": 5,
   "metadata": {},
   "outputs": [],
   "source": [
    "import xml.etree.ElementTree as ET\n",
    "import os\n",
    "import cv2\n",
    "import numpy as np\n",
    "import matplotlib.pyplot as plt\n",
    "\n",
    "monuseg_labels = os.listdir('./Annotations')\n",
    "monuseg_labels.sort()\n",
    "labels = np.zeros((0,1000, 1000, 2), dtype=np.int32)\n",
    "\n",
    "\n",
    "for name in monuseg_labels:\n",
    "    tree = ET.parse('./Annotations/' + name)\n",
    "    root = tree.getroot()\n",
    "    regions = root.find('Annotation').find('Regions')\n",
    "    mask = np.zeros((1000, 1000), dtype=np.int32)\n",
    "    instance_mask = np.zeros((1000, 1000), dtype=np.int32)\n",
    "\n",
    "    idx =1\n",
    "    for region in regions.findall('Region'):\n",
    "        arr = np.array([],dtype=np.int32)\n",
    "        vertices = region.find('Vertices')\n",
    "        for vertice in vertices.findall('Vertex'):\n",
    "            x = round(float(vertice.get('X')))\n",
    "            y = round(float(vertice.get('Y')))\n",
    "            arr = np.append(arr, [x, y])\n",
    "            arr = arr.reshape(-1, 2)\n",
    "        \n",
    "        ins = np.zeros((1000, 1000), dtype=np.int32)\n",
    "        \n",
    "        cv2.fillPoly(mask, [arr], 1)\n",
    "        cv2.fillPoly(ins, [arr], 1)\n",
    "        ins = ins * idx\n",
    "        ins[np.logical_and(instance_mask!=0,ins!=0)] = 0\n",
    "        instance_mask += ins\n",
    "        idx += 1\n",
    "    label = np.stack([ instance_mask, mask], axis=-1)\n",
    "    labels = np.concatenate([labels, label[np.newaxis, ...]], axis=0)\n",
    "\n",
    "\n",
    "np.save('/root/autodl-tmp/data/monuseg/MoNuSeg2018TrainingData/labels.npy',labels)"
   ]
  },
  {
   "cell_type": "code",
   "execution_count": 6,
   "metadata": {},
   "outputs": [],
   "source": [
    "import torch\n",
    "import os\n",
    "import numpy as np\n",
    "import PIL.Image as Image\n",
    "\n",
    "imgs = torch.zeros((0, 3, 1000, 1000), dtype=torch.float32)\n",
    "img_names = os.listdir('./Tissue Images')\n",
    "img_names.sort()\n",
    "for name in img_names:\n",
    "    img = Image.open('./Tissue Images/' + name)\n",
    "    img = np.array(img)\n",
    "    img = torch.from_numpy(img).float()/255\n",
    "    img = img.permute(2, 0, 1)\n",
    "    img = img.unsqueeze(0)\n",
    "    imgs = torch.cat([imgs, img], dim=0)\n",
    "torch.save(imgs,'/root/autodl-tmp/data/monuseg/MoNuSeg2018TrainingData/imgs.pt')\n"
   ]
  },
  {
   "cell_type": "code",
   "execution_count": 7,
   "metadata": {},
   "outputs": [
    {
     "name": "stdout",
     "output_type": "stream",
     "text": [
      "480\n",
      "1\n"
     ]
    }
   ],
   "source": [
    "import numpy as np\n",
    "\n",
    "data = np.load('./labels.npy')\n",
    "print(data[0,...,0].max())\n",
    "print(data[0,...,1].max())"
   ]
  }
 ],
 "metadata": {
  "kernelspec": {
   "display_name": "base",
   "language": "python",
   "name": "python3"
  },
  "language_info": {
   "codemirror_mode": {
    "name": "ipython",
    "version": 3
   },
   "file_extension": ".py",
   "mimetype": "text/x-python",
   "name": "python",
   "nbconvert_exporter": "python",
   "pygments_lexer": "ipython3",
   "version": "3.8.10"
  }
 },
 "nbformat": 4,
 "nbformat_minor": 2
}
