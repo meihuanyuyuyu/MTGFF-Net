{
 "cells": [
  {
   "cell_type": "code",
   "execution_count": 3,
   "metadata": {},
   "outputs": [
    {
     "name": "stdout",
     "output_type": "stream",
     "text": [
      "upsample_blocks[0] in: 2048   out: 256\n",
      "upsample_blocks[1] in: 256   out: 128\n",
      "upsample_blocks[2] in: 128   out: 64\n",
      "upsample_blocks[3] in: 64   out: 32\n",
      "upsample_blocks[4] in: 32   out: 16\n",
      "Loading dataset from data/monuseg\n",
      "Dataset loaded\n",
      "(1, 1000, 1000, 2)\n",
      "(1, 1000, 1000, 2)\n",
      "(1, 1000, 1000, 2)\n",
      "(1, 1000, 1000, 2)\n",
      "(1, 1000, 1000, 2)\n",
      "(1, 1000, 1000, 2)\n",
      "(1, 1000, 1000, 2)\n",
      "(1, 1000, 1000, 2)\n",
      "(1, 1000, 1000, 2)\n",
      "(1, 1000, 1000, 2)\n",
      "(1, 1000, 1000, 2)\n",
      "(1, 1000, 1000, 2)\n",
      "(1, 1000, 1000, 2)\n",
      "(1, 1000, 1000, 2)\n",
      "dice score:0.774660\n",
      "numpy_result/monuseg/1/CDNet_MoNuSeg_test_result/gts.npy\n",
      "numpy_result/monuseg/1/CDNet_MoNuSeg_test_result/preds.npy\n",
      "1\n"
     ]
    },
    {
     "name": "stderr",
     "output_type": "stream",
     "text": [
      " 93%|█████████▎| 13/14 [01:53<00:07,  7.65s/it]"
     ]
    },
    {
     "name": "stdout",
     "output_type": "stream",
     "text": [
      "      pq       SQ       DQ      AJI  multi_pq+\n",
      "0.526315 0.738559 0.710388 0.589974   0.532798\n"
     ]
    },
    {
     "name": "stderr",
     "output_type": "stream",
     "text": [
      "100%|██████████| 14/14 [02:02<00:00,  8.77s/it]\n"
     ]
    },
    {
     "data": {
      "text/plain": [
       "0"
      ]
     },
     "execution_count": 3,
     "metadata": {},
     "output_type": "execute_result"
    }
   ],
   "source": [
    "dataset_name = 'monuseg'\n",
    "device = 'cuda'\n",
    "split_num = 1\n",
    "\n",
    "import torch\n",
    "import os\n",
    "import matplotlib.pyplot as plt\n",
    "import numpy as np\n",
    "from Netlib.CDNetlib.Config import  CDNet_config\n",
    "from Netlib.CDNetlib import CDNetDataset\n",
    "from Netlib.CDNetlib.tools.augmentation import MyCenterCrop\n",
    "\n",
    "# infer test monuSeg data\n",
    "arg = CDNet_config.CDNet_MoNuSeg(dataset_name,device=device,ds_num=split_num)\n",
    "model = arg.model(arg.BACKBONE_NAME,pretrained=False,classes=arg.CLASSES).to(device=device)\n",
    "model.load_state_dict(torch.load(arg.load_model_para))\n",
    "model.to(device=device)\n",
    "data =CDNetDataset.CDNetDataset_MoNuSeg(arg.DATASET_FP,tranfs=[MyCenterCrop((1000,1000))],train=False)\n",
    "\n",
    "preds = np.zeros((0,1000,1000,2))\n",
    "for i in range(len(data)):\n",
    "    imgs = data[i][0].to(device).unsqueeze(0) # 1,3,512,512\n",
    "    pred =model.inference(imgs) # 1,2,256,256\n",
    "    print(pred.shape)\n",
    "    preds = np.concatenate((preds,pred),axis=0)\n",
    "\n",
    "pred_path = os.path.join('numpy_result',arg.TEST_RESULT_DIR)+'/gts.npy'\n",
    "gts_path = os.path.join('numpy_result',arg.TEST_RESULT_DIR)+'/preds.npy'\n",
    "\n",
    "from Netlib.HoVerNetlib.tools.utils import draw_instance_map\n",
    "from Netlib.HoVerNetlib.tools.metric import dice_score\n",
    "\n",
    "def print_metric(pred_path, true_path):\n",
    "        pred =np.load(pred_path)\n",
    "        target = np.load(true_path)\n",
    "        pred = torch.from_numpy(pred.astype(np.int16)).long() # [N, 256, 256, 2]\n",
    "        target = torch.from_numpy(target.astype(np.int16)).long() # [N, 256, 256, 2]\n",
    "        dice = dice_score(pred[..., 1], target[..., 1])\n",
    "        print(f\"dice score:{dice:.6f}\")\n",
    "\n",
    "#获取文件目录中的父目录路径：\n",
    "if not os.path.exists(os.path.dirname(pred_path)):\n",
    "        os.makedirs(os.path.dirname(pred_path))\n",
    "if not os.path.exists(os.path.dirname(gts_path)):\n",
    "        os.makedirs(os.path.dirname(gts_path))\n",
    "\n",
    "np.save(pred_path,preds)\n",
    "cp = MyCenterCrop((1000,1000))\n",
    "\n",
    "gts = cp((data.labels))[0].permute(0,2,3,1).cpu().numpy()\n",
    "np.save(gts_path,gts)\n",
    "imgs = cp((data.imgs))[0]\n",
    "\n",
    "if not os.path.exists(arg.figure_dir+'/preds'):\n",
    "        print(\"not find the path\")\n",
    "        os.makedirs(arg.figure_dir+'/preds')\n",
    "\n",
    "draw_instance_map(imgs,preds,fp=arg.figure_dir+'/preds')\n",
    "print_metric(pred_path,gts_path)\n",
    "\n",
    "print(pred_path)\n",
    "print(gts_path)\n",
    "print(arg.CLASSES-1)\n",
    "os.system(f'python compute_metric/compute_stats.py --mode=seg_class --pred={pred_path} --true={gts_path} --class_num={arg.CLASSES-1}')"
   ]
  },
  {
   "cell_type": "code",
   "execution_count": 1,
   "metadata": {},
   "outputs": [
    {
     "name": "stdout",
     "output_type": "stream",
     "text": [
      "upsample_blocks[0] in: 2048   out: 256\n",
      "upsample_blocks[1] in: 256   out: 128\n",
      "upsample_blocks[2] in: 128   out: 64\n",
      "upsample_blocks[3] in: 64   out: 32\n",
      "upsample_blocks[4] in: 32   out: 16\n",
      "Loading dataset from data/cpm17\n"
     ]
    },
    {
     "name": "stderr",
     "output_type": "stream",
     "text": [
      "/root/miniconda3/lib/python3.8/site-packages/torch/nn/functional.py:1806: UserWarning: nn.functional.sigmoid is deprecated. Use torch.sigmoid instead.\n",
      "  warnings.warn(\"nn.functional.sigmoid is deprecated. Use torch.sigmoid instead.\")\n"
     ]
    },
    {
     "name": "stdout",
     "output_type": "stream",
     "text": [
      "not find the path\n",
      "dice score:0.814741\n",
      "numpy_result/cpm/1/CDNet_CPM_test_result/gts.npy\n",
      "numpy_result/cpm/1/CDNet_CPM_test_result/preds.npy\n",
      "1\n"
     ]
    },
    {
     "name": "stderr",
     "output_type": "stream",
     "text": [
      " 91%|█████████ | 29/32 [00:01<00:00, 26.43it/s]"
     ]
    },
    {
     "name": "stdout",
     "output_type": "stream",
     "text": [
      "      pq       SQ       DQ      AJI  multi_pq+\n",
      "0.590845 0.787701 0.749459 0.656757   0.599194\n"
     ]
    },
    {
     "name": "stderr",
     "output_type": "stream",
     "text": [
      "100%|██████████| 32/32 [00:01<00:00, 25.97it/s]\n"
     ]
    },
    {
     "data": {
      "text/plain": [
       "0"
      ]
     },
     "execution_count": 1,
     "metadata": {},
     "output_type": "execute_result"
    }
   ],
   "source": [
    "dataset_name = 'cpm'\n",
    "device = 'cuda'\n",
    "split_num = 1\n",
    "\n",
    "import torch\n",
    "import os\n",
    "import matplotlib.pyplot as plt\n",
    "import numpy as np\n",
    "from Netlib.CDNetlib.Config import  CDNet_config\n",
    "from Netlib.CDNetlib import CDNetDataset\n",
    "from Netlib.CDNetlib.tools.augmentation import MyCenterCrop\n",
    "\n",
    "# infer test monuSeg data\n",
    "arg = CDNet_config.CDNet_CPM(dataset_name,device=device,ds_num=split_num)\n",
    "model = arg.model(arg.BACKBONE_NAME,pretrained=False,classes=arg.CLASSES).to(device=device)\n",
    "model.load_state_dict(torch.load(arg.load_model_para))\n",
    "model.to(device=device)\n",
    "data =CDNetDataset.CDNetDataset_CPM(arg.DATASET_FP,tranfs=[MyCenterCrop((256,256))],train=False)\n",
    "\n",
    "preds = np.zeros((0,256,256,2))\n",
    "for i in range(len(data)):\n",
    "    imgs = data[i][0].to(device).unsqueeze(0) # 1,3,512,512\n",
    "    pred =model.inference(imgs) # 1,2,256,256\n",
    "    preds = np.concatenate((preds,pred),axis=0)\n",
    "\n",
    "pred_path = os.path.join('numpy_result',arg.TEST_RESULT_DIR)+'/gts.npy'\n",
    "gts_path = os.path.join('numpy_result',arg.TEST_RESULT_DIR)+'/preds.npy'\n",
    "\n",
    "from Netlib.HoVerNetlib.tools.utils import draw_instance_map\n",
    "from Netlib.HoVerNetlib.tools.metric import dice_score\n",
    "\n",
    "def print_metric(pred_path, true_path):\n",
    "        pred =np.load(pred_path)\n",
    "        target = np.load(true_path)\n",
    "        pred = torch.from_numpy(pred.astype(np.int16)).long() # [N, 256, 256, 2]\n",
    "        target = torch.from_numpy(target.astype(np.int16)).long() # [N, 256, 256, 2]\n",
    "        dice = dice_score(pred[..., 1], target[..., 1])\n",
    "        print(f\"dice score:{dice:.6f}\")\n",
    "\n",
    "#获取文件目录中的父目录路径：\n",
    "if not os.path.exists(os.path.dirname(pred_path)):\n",
    "        os.makedirs(os.path.dirname(pred_path))\n",
    "if not os.path.exists(os.path.dirname(gts_path)):\n",
    "        os.makedirs(os.path.dirname(gts_path))\n",
    "\n",
    "np.save(pred_path,preds)\n",
    "cp = MyCenterCrop((1000,1000))\n",
    "\n",
    "gts = np.load('data/cpm17/test/labels.npy')\n",
    "np.save(gts_path,gts)\n",
    "imgs = torch.load('data/cpm17/test/imgs.pt')\n",
    "\n",
    "if not os.path.exists(arg.figure_dir+'/preds'):\n",
    "        print(\"not find the path\")\n",
    "        os.makedirs(arg.figure_dir+'/preds')\n",
    "\n",
    "draw_instance_map(imgs,preds,fp=arg.figure_dir+'/preds')\n",
    "print_metric(pred_path,gts_path)\n",
    "\n",
    "print(pred_path)\n",
    "print(gts_path)\n",
    "print(arg.CLASSES-1)\n",
    "os.system(f'python compute_metric/compute_stats.py --mode=seg_class --pred={pred_path} --true={gts_path} --class_num={arg.CLASSES-1}')"
   ]
  },
  {
   "cell_type": "code",
   "execution_count": null,
   "metadata": {},
   "outputs": [],
   "source": [
    "dataset_name = 'dsb'\n",
    "device = 'cuda'\n",
    "split_num = 1\n",
    "\n",
    "import torch\n",
    "import os\n",
    "import matplotlib.pyplot as plt\n",
    "import numpy as np\n",
    "from Netlib.CDNetlib.Config import  CDNet_config\n",
    "from Netlib.CDNetlib import CDNetDataset\n",
    "from Netlib.CDNetlib.tools.augmentation import MyCenterCrop\n",
    "\n",
    "arg = CDNet_config.CDNet_DSB(dataset_name,device=device,ds_num=split_num)\n",
    "model = arg.model(arg.BACKBONE_NAME,pretrained=False,classes=arg.CLASSES).to(device=device)\n",
    "model.load_state_dict(torch.load(arg.load_model_para))\n",
    "model.to(device=device)\n",
    "data =CDNetDataset.CDNetDataset_DSB(arg.DATASET_FP,tranfs=[MyCenterCrop((256,256))],train=False)\n",
    "\n",
    "preds = np.zeros((0,256,256,2),dtype=np.int32)\n",
    "for i in arg.TEST_SET_INDEX:\n",
    "    imgs = data[i][0].to(device).unsqueeze(0) # 1,3,512,512\n",
    "    pred =model.inference(imgs) # 1,2,256,256\n",
    "    preds = np.concatenate((preds,pred),axis=0)\n",
    "\n",
    "pred_path = os.path.join('numpy_result',arg.TEST_RESULT_DIR)+'/gts.npy'\n",
    "gts_path = os.path.join('numpy_result',arg.TEST_RESULT_DIR)+'/preds.npy'\n",
    "if not os.path.exists(os.path.dirname(pred_path)):\n",
    "        os.makedirs(os.path.dirname(pred_path))\n",
    "if not os.path.exists(os.path.dirname(gts_path)):\n",
    "        os.makedirs(os.path.dirname(gts_path))\n",
    "\n",
    "import PIL.Image as Image\n",
    "from torchvision.transforms.functional import pil_to_tensor\n",
    "from Netlib.HoVerNetlib.tools.utils import draw_instance_map\n",
    "from Netlib.HoVerNetlib.tools.metric import dice_score\n",
    "\n",
    "def print_metric(pred_path, true_path):\n",
    "        pred =np.load(pred_path)\n",
    "        target = np.load(true_path)\n",
    "        pred = torch.from_numpy(pred.astype(np.int16)).long() # [N, 256, 256, 2]\n",
    "        target = torch.from_numpy(target.astype(np.int16)).long() # [N, 256, 256, 2]\n",
    "        dice = dice_score(pred[..., 1], target[..., 1])\n",
    "        print(f\"dice score:{dice:.6f}\")\n",
    "\n",
    "np.save(pred_path,preds)\n",
    "print(arg.TEST_SET_INDEX)\n",
    "\n",
    "imgs = torch.zeros((0,3, 256,256),dtype=torch.float32)\n",
    "gts = np.zeros((0,256,256,2),dtype=np.int32)\n",
    "for i in arg.TEST_SET_INDEX:\n",
    "    img = Image.open(os.path.join('data/DSB2018/train', data.data_dir[i], 'images', data.data_dir[i]+'.png')).convert('RGB')\n",
    "    img = pil_to_tensor(img).float() / 255\n",
    "    img = cp((img))[0]\n",
    "    instances = os.listdir(os.path.join( 'data/DSB2018/train',data.data_dir[i], \"masks\"))\n",
    "    instances.sort()\n",
    "    label = torch.zeros(2, img.shape[1], img.shape[2], dtype=torch.long)\n",
    "    for idx, ins in enumerate(instances):\n",
    "        mask = Image.open(os.path.join(data.train_dir, data.data_dir[i], \"masks\", ins))\n",
    "        mask = pil_to_tensor(mask).bool() * 1\n",
    "        mask = cp((mask))[0]\n",
    "        label[0][label[0]==0] += mask[0][label[0]==0] * (idx+1)\n",
    "        label[1][label[1]==0] += mask[0][label[1]==0].long()\n",
    "\n",
    "    imgs = torch.cat((imgs,img.unsqueeze(0)),0)\n",
    "    gts = np.concatenate((gts,label.permute(1,2,0).unsqueeze(0).cpu().numpy()),axis=0)\n",
    "\n",
    "np.save(gts_path,gts)\n",
    "\n",
    "if not os.path.exists(arg.figure_dir+'/preds'):\n",
    "        print(\"not find the path\")\n",
    "        os.makedirs(arg.figure_dir+'/preds')\n",
    "\n",
    "draw_instance_map(imgs,preds,fp=arg.figure_dir+'/preds')\n",
    "print_metric(pred_path,gts_path)\n",
    "\n",
    "print(pred_path)\n",
    "print(gts_path)\n",
    "print(arg.CLASSES-1)\n",
    "os.system(f'python compute_metric/compute_stats.py --mode=seg_class --pred={pred_path} --true={gts_path} --class_num={arg.CLASSES-1}')\n"
   ]
  }
 ],
 "metadata": {
  "kernelspec": {
   "display_name": "base",
   "language": "python",
   "name": "python3"
  },
  "language_info": {
   "codemirror_mode": {
    "name": "ipython",
    "version": 3
   },
   "file_extension": ".py",
   "mimetype": "text/x-python",
   "name": "python",
   "nbconvert_exporter": "python",
   "pygments_lexer": "ipython3",
   "version": "3.8.10"
  }
 },
 "nbformat": 4,
 "nbformat_minor": 2
}
